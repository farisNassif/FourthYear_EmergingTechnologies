{
 "cells": [
  {
   "cell_type": "markdown",
   "metadata": {},
   "source": [
    "<center> <b>Emerging Technologies 2019</b> </center> <br>\n",
    "\n",
    "> Student: Faris Nassif, G00347032<br>\n",
    "> Lecturer: Dr Ian McLoughlin<br>\n",
    "> [Project Brief](https://github.com/ianmcloughlin/project-2019-emtech/blob/master/project.pdf)\n"
   ]
  },
  {
   "cell_type": "code",
   "execution_count": 16,
   "metadata": {},
   "outputs": [],
   "source": [
    "# Adapted from https://www.tensorflow.org/tutorials/keras/classification\n",
    "from __future__ import absolute_import, division, print_function, unicode_literals\n",
    "# TensorFlow and tf.keras\n",
    "import tensorflow as tf\n",
    "import keras\n",
    "from keras.layers.core import Dense, Activation, Dropout, Flatten\n",
    "from keras.layers.convolutional import Conv2D, MaxPooling2D\n",
    "# Helper libraries\n",
    "import numpy as np\n",
    "import matplotlib.pyplot as plt"
   ]
  },
  {
   "cell_type": "code",
   "execution_count": 6,
   "metadata": {},
   "outputs": [],
   "source": [
    "# Reoccuring variables\n",
    "CONST_IMAGE_WIDTH, CONST_IMAGE_HEIGHT = 28, 28\n",
    "CONST_IMAGE_CHANNELS = 1\n",
    "CONST_NUM_CLASSES = 10"
   ]
  },
  {
   "cell_type": "code",
   "execution_count": 1,
   "metadata": {},
   "outputs": [],
   "source": [
    "# These class names don't do anything in the model\n",
    "# Their function is just for visual plotting\n",
    "class_names = ['0', '1', '2', '3', '4', '5',\n",
    "               '6', '7', '8', '9']"
   ]
  },
  {
   "cell_type": "code",
   "execution_count": 4,
   "metadata": {},
   "outputs": [],
   "source": [
    "# Import the dataset\n",
    "numbers_mnist = tf.keras.datasets.mnist"
   ]
  },
  {
   "cell_type": "code",
   "execution_count": 5,
   "metadata": {},
   "outputs": [],
   "source": [
    "# Loading the data that was imported above \n",
    "# train_images and train_labels are the training set (What the model uses to learn)\n",
    "# test_images and test_labels are what the model is tested against after it's learned\n",
    "(train_images, train_labels), (test_images, test_labels) = numbers_mnist.load_data()"
   ]
  },
  {
   "cell_type": "code",
   "execution_count": 6,
   "metadata": {},
   "outputs": [],
   "source": [
    "# Shape of the input that will be inserted into the neural network (28,28,1)\n",
    "input_shape = (CONST_IMAGE_WIDTH, CONST_IMAGE_HEIGHT, CONST_IMAGE_CHANNELS)"
   ]
  },
  {
   "cell_type": "code",
   "execution_count": 7,
   "metadata": {},
   "outputs": [
    {
     "data": {
      "text/plain": [
       "(60000, 28, 28)"
      ]
     },
     "execution_count": 7,
     "metadata": {},
     "output_type": "execute_result"
    }
   ],
   "source": [
    "# Shows there are 60,000 images in the training set, with each image represented as 28 x 28 pixels\n",
    "train_images.shape"
   ]
  },
  {
   "cell_type": "code",
   "execution_count": 8,
   "metadata": {},
   "outputs": [
    {
     "data": {
      "text/plain": [
       "(10000, 28, 28)"
      ]
     },
     "execution_count": 8,
     "metadata": {},
     "output_type": "execute_result"
    }
   ],
   "source": [
    "# Shows there are 10,000 images in the training set, with each image represented as 28 x 28 pixels\n",
    "test_images.shape"
   ]
  },
  {
   "cell_type": "code",
   "execution_count": 9,
   "metadata": {},
   "outputs": [
    {
     "data": {
      "image/png": "[encoded data removed]",
      "text/plain": [
       "<Figure size 432x288 with 2 Axes>"
      ]
     },
     "metadata": {
      "needs_background": "light"
     },
     "output_type": "display_data"
    }
   ],
   "source": [
    "# The data must be preprocessed before training the network\n",
    "# Pixel values fall in the range of 0 to 255\n",
    "\n",
    "plt.figure()\n",
    "plt.imshow(train_images[0], cmap='gray')\n",
    "plt.colorbar()\n",
    "plt.grid(False)\n",
    "plt.show()"
   ]
  },
  {
   "cell_type": "code",
   "execution_count": 10,
   "metadata": {},
   "outputs": [],
   "source": [
    "# Scale these values to a range of 0 to 1 before feeding them to the neural network \n",
    "# Divide the values by 255\n",
    "train_images = train_images / 255.0\n",
    "test_images = test_images / 255.0"
   ]
  },
  {
   "cell_type": "code",
   "execution_count": 3,
   "metadata": {},
   "outputs": [
    {
     "ename": "NameError",
     "evalue": "name 'plt' is not defined",
     "output_type": "error",
     "traceback": [
      "\u001b[1;31m---------------------------------------------------------------------------\u001b[0m",
      "\u001b[1;31mNameError\u001b[0m                                 Traceback (most recent call last)",
      "\u001b[1;32m<ipython-input-3-49dbed463cfb>\u001b[0m in \u001b[0;36m<module>\u001b[1;34m\u001b[0m\n\u001b[0;32m      1\u001b[0m \u001b[1;31m# Verifying the data is in the correct format\u001b[0m\u001b[1;33m\u001b[0m\u001b[1;33m\u001b[0m\u001b[1;33m\u001b[0m\u001b[0m\n\u001b[0;32m      2\u001b[0m \u001b[1;31m# Display the first 25 images from the training set and the previously defined class_name below it\u001b[0m\u001b[1;33m\u001b[0m\u001b[1;33m\u001b[0m\u001b[1;33m\u001b[0m\u001b[0m\n\u001b[1;32m----> 3\u001b[1;33m \u001b[0mplt\u001b[0m\u001b[1;33m.\u001b[0m\u001b[0mfigure\u001b[0m\u001b[1;33m(\u001b[0m\u001b[0mfigsize\u001b[0m\u001b[1;33m=\u001b[0m\u001b[1;33m(\u001b[0m\u001b[1;36m8\u001b[0m\u001b[1;33m,\u001b[0m\u001b[1;36m8\u001b[0m\u001b[1;33m)\u001b[0m\u001b[1;33m)\u001b[0m\u001b[1;33m\u001b[0m\u001b[1;33m\u001b[0m\u001b[0m\n\u001b[0m\u001b[0;32m      4\u001b[0m \u001b[1;32mfor\u001b[0m \u001b[0mi\u001b[0m \u001b[1;32min\u001b[0m \u001b[0mrange\u001b[0m\u001b[1;33m(\u001b[0m\u001b[1;36m25\u001b[0m\u001b[1;33m)\u001b[0m\u001b[1;33m:\u001b[0m\u001b[1;33m\u001b[0m\u001b[1;33m\u001b[0m\u001b[0m\n\u001b[0;32m      5\u001b[0m     \u001b[0mplt\u001b[0m\u001b[1;33m.\u001b[0m\u001b[0msubplot\u001b[0m\u001b[1;33m(\u001b[0m\u001b[1;36m5\u001b[0m\u001b[1;33m,\u001b[0m\u001b[1;36m5\u001b[0m\u001b[1;33m,\u001b[0m\u001b[0mi\u001b[0m\u001b[1;33m+\u001b[0m\u001b[1;36m1\u001b[0m\u001b[1;33m)\u001b[0m\u001b[1;33m\u001b[0m\u001b[1;33m\u001b[0m\u001b[0m\n",
      "\u001b[1;31mNameError\u001b[0m: name 'plt' is not defined"
     ]
    }
   ],
   "source": [
    "# Verifying the data is in the correct format\n",
    "# Display the first 25 images from the training set and the previously defined class_name below it\n",
    "plt.figure(figsize=(8,8)) \n",
    "for i in range(25):\n",
    "    plt.subplot(5,5,i+1)\n",
    "    plt.xticks([])\n",
    "    plt.yticks([])\n",
    "    plt.grid(False)\n",
    "    plt.imshow(train_images[i], cmap=plt.cm.binary)\n",
    "    plt.xlabel(class_names[train_labels[i]])\n",
    "plt.show()"
   ]
  },
  {
   "cell_type": "code",
   "execution_count": 12,
   "metadata": {},
   "outputs": [],
   "source": [
    "\"\"\" Create the model \"\"\"\n",
    "\n",
    "# Model type that allows creation layer by layer\n",
    "model = keras.Sequential()\n",
    "\n",
    "# A 2d convolution layer allows spatial convolution over images\n",
    "# Creates a convolution kernel (small matrix) \n",
    "model.add(Conv2D(32, # 32 represents the amount of filters \n",
    "                kernel_size=(5, 5), # Kernel_size 2 integers specifying width and height of the convolution window (5x5)  \n",
    "                padding='same', # Zero padding\n",
    "                activation='relu', # Relu worked best with my model https://datascience.stackexchange.com/questions/18667/relu-vs-sigmoid-in-mnist-example\n",
    "                input_shape=input_shape)) # Passed in value is equal to (28, 28, 1), same value as that of images to pass into the model\n",
    "    \n",
    "# **Temp, may change this\n",
    "model.add(MaxPooling2D(pool_size=(2, 2)))      \n",
    "\n",
    "# This time add another convolution layer with slightly different paramaters \n",
    "model.add(Conv2D(64, \n",
    "                (3, 3), \n",
    "                activation='relu')) \n",
    "\n",
    "# Used for downsampling the image size. \n",
    "# Eg. in a (2,2) pool it splits a pixel image into 4 chucks and takes the 4 highest values from each chunk\n",
    "model.add(MaxPooling2D(pool_size=(2, 2)))               \n",
    "\n",
    "# Dropout causes my model to crash when loaded, no choice but to exclude it\n",
    "# model.add(Dropout(0.2))\n",
    "\n",
    "# Flattens the 2D arrays for fully connected layers\n",
    "model.add(Flatten())  \n",
    "\n",
    "# Apply a dense layer with a output of 128 (nodes)\n",
    "model.add(Dense(128, \n",
    "                activation='relu'))\n",
    "\n",
    "# Apply a dense layer with a output of 50 (nodes)\n",
    "model.add(Dense(50, \n",
    "                    activation='relu'))\n",
    "\n",
    "# Apply a final dense layer with a output of 10 \n",
    "# Softmax is applied to the final layer as it can be used to represent categorical data, outputing results ranging from 0 upto 1\n",
    "model.add(Dense(CONST_NUM_CLASSES, \n",
    "                activation='softmax'))"
   ]
  },
  {
   "cell_type": "code",
   "execution_count": 13,
   "metadata": {},
   "outputs": [],
   "source": [
    "# Now that the model has been created, it must be compiled before training\n",
    "model.compile(loss=keras.losses.categorical_crossentropy, # Loss function -> Measures how accurate the model is during training\n",
    "            optimizer='adam', # Optimizer -> How the model is updated based on the data it sees and its loss function.\n",
    "            metrics=['accuracy']) # Metrics -> Used to monitor the training and testing steps"
   ]
  },
  {
   "cell_type": "code",
   "execution_count": 14,
   "metadata": {},
   "outputs": [],
   "source": [
    "# Manipulating the train/test data from a 3d => 4d numpy arrays\n",
    "# Conv2d is expected to have 4 dimensions\n",
    "train_images = train_images.reshape(train_images.shape[0], CONST_IMAGE_WIDTH, CONST_IMAGE_HEIGHT, CONST_IMAGE_CHANNELS)\n",
    "test_images = test_images.reshape(test_images.shape[0], CONST_IMAGE_WIDTH, CONST_IMAGE_HEIGHT, CONST_IMAGE_CHANNELS)"
   ]
  },
  {
   "cell_type": "code",
   "execution_count": 15,
   "metadata": {},
   "outputs": [],
   "source": [
    "# Ensuring values are floats so decimal points can be used after division\n",
    "# https://stackoverflow.com/questions/48219442/use-tf-to-float-or-tf-image-convert-image-dtype-in-image-pipeline-for-cn\n",
    "train_images = train_images.astype('float32')\n",
    "test_images = test_images.astype('float32')"
   ]
  },
  {
   "cell_type": "code",
   "execution_count": 16,
   "metadata": {},
   "outputs": [],
   "source": [
    "# Converts a class vector (integers) to binary class matrix\n",
    "# https://keras.io/utils/\n",
    "train_labels = keras.utils.to_categorical(train_labels, CONST_NUM_CLASSES)\n",
    "test_labels = keras.utils.to_categorical(test_labels, CONST_NUM_CLASSES)"
   ]
  },
  {
   "cell_type": "code",
   "execution_count": 17,
   "metadata": {
    "scrolled": true
   },
   "outputs": [
    {
     "name": "stdout",
     "output_type": "stream",
     "text": [
      "Train on 60000 samples, validate on 10000 samples\n",
      "Epoch 1/1\n",
      "60000/60000 [==============================] - 54s 901us/step - loss: 0.1228 - accuracy: 0.9617 - val_loss: 0.0502 - val_accuracy: 0.9829\n"
     ]
    },
    {
     "data": {
      "text/plain": [
       "<keras.callbacks.callbacks.History at 0x237cea510f0>"
      ]
     },
     "execution_count": 17,
     "metadata": {},
     "output_type": "execute_result"
    }
   ],
   "source": [
    "# Train the model. Training it requires..\n",
    "# 1) Feeding the model with the trained_images and trained_labels\n",
    "# 2) The model learns association between the images and labels\n",
    "# 3) Ask the model to make predictions about a test set. Verify the predictions match the labls from the test_labels array          \n",
    "model.fit(train_images, train_labels, # Training images and labels\n",
    "          validation_data=(test_images, test_labels), # Evaluate the loss and any model metrics at the end of each epoch\n",
    "          batch_size=20, # Too large a mini-batch size usually leads to a lower accuracy\n",
    "          epochs=1, # Number of iterations, for the sake of the Notebook it's 1, would ideally be 12-18\n",
    "          verbose=1) # Provides a progress bar when training"
   ]
  },
  {
   "cell_type": "code",
   "execution_count": 18,
   "metadata": {},
   "outputs": [
    {
     "name": "stdout",
     "output_type": "stream",
     "text": [
      "10000/10000 [==============================] - 2s 166us/step\n",
      "\n",
      "Test accuracy: 0.9829000234603882\n"
     ]
    }
   ],
   "source": [
    "# Compare how the model performs on the test dataset\n",
    "test_loss, test_acc = model.evaluate(test_images,  test_labels, verbose=1)\n",
    "print('\\nTest accuracy:', test_acc)"
   ]
  },
  {
   "cell_type": "code",
   "execution_count": 19,
   "metadata": {},
   "outputs": [],
   "source": [
    "# Now with the model trained, it can make predictions on some images\n",
    "predictions = model.predict(test_images)\n",
    "\n",
    "# A prediction is an array of 10 numbers\n",
    "# It represents the model's confidence that the image corresponds to each of the 10 numbers (0-9)"
   ]
  },
  {
   "cell_type": "code",
   "execution_count": 24,
   "metadata": {},
   "outputs": [
    {
     "data": {
      "text/plain": [
       "array([2.42895908e-08, 2.50308165e-08, 9.45587908e-06, 2.70665112e-07,\n",
       "       6.32045793e-09, 3.71155418e-09, 1.50775933e-10, 9.99989033e-01,\n",
       "       1.00202456e-07, 1.08148708e-06], dtype=float32)"
      ]
     },
     "execution_count": 24,
     "metadata": {},
     "output_type": "execute_result"
    }
   ],
   "source": [
    "# Test neural network prediction on the first image in test_images\n",
    "predictions[0]"
   ]
  },
  {
   "cell_type": "code",
   "execution_count": 23,
   "metadata": {},
   "outputs": [
    {
     "data": {
      "text/plain": [
       "7"
      ]
     },
     "execution_count": 23,
     "metadata": {},
     "output_type": "execute_result"
    }
   ],
   "source": [
    "# Print the index with the highest result\n",
    "np.argmax(predictions[0])"
   ]
  },
  {
   "cell_type": "code",
   "execution_count": 27,
   "metadata": {},
   "outputs": [
    {
     "data": {
      "text/plain": [
       "7"
      ]
     },
     "execution_count": 27,
     "metadata": {},
     "output_type": "execute_result"
    }
   ],
   "source": [
    "# Test and make sure it corresponds to the actual result\n",
    "np.argmax(test_labels[0])"
   ]
  },
  {
   "cell_type": "code",
   "execution_count": null,
   "metadata": {},
   "outputs": [],
   "source": []
  }
 ],
 "metadata": {
  "kernelspec": {
   "display_name": "Python 3",
   "language": "python",
   "name": "python3"
  },
  "language_info": {
   "codemirror_mode": {
    "name": "ipython",
    "version": 3
   },
   "file_extension": ".py",
   "mimetype": "text/x-python",
   "name": "python",
   "nbconvert_exporter": "python",
   "pygments_lexer": "ipython3",
   "version": "3.7.1"
  }
 },
 "nbformat": 4,
 "nbformat_minor": 2
}
